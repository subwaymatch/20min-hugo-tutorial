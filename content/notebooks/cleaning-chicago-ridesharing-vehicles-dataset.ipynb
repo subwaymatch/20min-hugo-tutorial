{
 "cells": [
  {
   "cell_type": "raw",
   "metadata": {},
   "source": [
    "---\n",
    "title: Cleaning Chicago Ridesharing Registered Vehicles Dataset\n",
    "date: 2021-03-12\n",
    "categories:\n",
    "  - Dataset\n",
    "---"
   ]
  },
  {
   "cell_type": "markdown",
   "metadata": {},
   "source": [
    "All vehicles 🚗 reported by Transportation Network Providers (sometimes called rideshare companies) to the City of Chicago as part of routine reporting required by ordinance. Inclusion of a vehicle in a monthly report indicates that the vehicle was eligible for trips in Chicago in that month for at least one day, regardless of whether it actually provided any rides. If a vehicle is eligible in multiple months, which is common, it will have records in each of these reporting months.\n",
    "\n",
    "Source: [Chicago Data Portal Transportation Network Providers - Vehicles](https://data.cityofchicago.org/Transportation/Transportation-Network-Providers-Vehicles/bc6b-sq4u)"
   ]
  },
  {
   "cell_type": "markdown",
   "metadata": {},
   "source": [
    "---\n",
    "\n",
    "## Goal of this Notebook"
   ]
  },
  {
   "cell_type": "markdown",
   "metadata": {},
   "source": [
    "🚀 This notebook will make the dataset more **usable** by perfoming these tasks:\n",
    "\n",
    "- Remove rows with missing values in `MAKE`, `MODEL`, `COLOR`, `YEAR` columns\n",
    "- Only filter vehicles with 100 or more trips\n",
    "- Filter rows with valid State 2-letter codes\n",
    "- Extract Year/Month Reported\n",
    "- Remove make & model combinations that are extremely rare"
   ]
  },
  {
   "cell_type": "code",
   "execution_count": 1,
   "metadata": {},
   "outputs": [],
   "source": [
    "import pandas as pd\n",
    "import numpy as np"
   ]
  },
  {
   "cell_type": "markdown",
   "metadata": {},
   "source": [
    "---\n",
    "\n",
    "## Load Data"
   ]
  },
  {
   "cell_type": "markdown",
   "metadata": {},
   "source": [
    "The dataset can be downloaded at [Chicago Data Portal Transportation Network Providers - Vehicles](https://data.cityofchicago.org/Transportation/Transportation-Network-Providers-Vehicles/bc6b-sq4u) (~350 MB). The dataset contains information about registered ridesharing vehicles in Chicago as of October 30, 2020."
   ]
  },
  {
   "cell_type": "code",
   "execution_count": 2,
   "metadata": {},
   "outputs": [],
   "source": [
    "df = pd.read_csv('Transportation_Network_Providers_-_Vehicles.csv')"
   ]
  },
  {
   "cell_type": "code",
   "execution_count": 3,
   "metadata": {},
   "outputs": [
    {
     "data": {
      "text/html": [
       "<div>\n",
       "<style scoped>\n",
       "    .dataframe tbody tr th:only-of-type {\n",
       "        vertical-align: middle;\n",
       "    }\n",
       "\n",
       "    .dataframe tbody tr th {\n",
       "        vertical-align: top;\n",
       "    }\n",
       "\n",
       "    .dataframe thead th {\n",
       "        text-align: right;\n",
       "    }\n",
       "</style>\n",
       "<table border=\"1\" class=\"dataframe\">\n",
       "  <thead>\n",
       "    <tr style=\"text-align: right;\">\n",
       "      <th></th>\n",
       "      <th>MONTH_REPORTED</th>\n",
       "      <th>STATE</th>\n",
       "      <th>MAKE</th>\n",
       "      <th>MODEL</th>\n",
       "      <th>COLOR</th>\n",
       "      <th>YEAR</th>\n",
       "      <th>LAST_INSPECTION_MONTH</th>\n",
       "      <th>NUMBER_OF_TRIPS</th>\n",
       "      <th>MULTIPLE_TNPS</th>\n",
       "    </tr>\n",
       "  </thead>\n",
       "  <tbody>\n",
       "    <tr>\n",
       "      <th>0</th>\n",
       "      <td>2017-09</td>\n",
       "      <td>IL</td>\n",
       "      <td>Nissan</td>\n",
       "      <td>Pathfinder</td>\n",
       "      <td>Red</td>\n",
       "      <td>2016.0</td>\n",
       "      <td>2017-06</td>\n",
       "      <td>NaN</td>\n",
       "      <td>True</td>\n",
       "    </tr>\n",
       "    <tr>\n",
       "      <th>1</th>\n",
       "      <td>2016-10</td>\n",
       "      <td>IL</td>\n",
       "      <td>Nissan</td>\n",
       "      <td>Altima</td>\n",
       "      <td>NaN</td>\n",
       "      <td>2016.0</td>\n",
       "      <td>NaN</td>\n",
       "      <td>NaN</td>\n",
       "      <td>True</td>\n",
       "    </tr>\n",
       "    <tr>\n",
       "      <th>2</th>\n",
       "      <td>2018-01</td>\n",
       "      <td>IL</td>\n",
       "      <td>Nissan</td>\n",
       "      <td>Altima</td>\n",
       "      <td>Gray</td>\n",
       "      <td>2014.0</td>\n",
       "      <td>2017-10</td>\n",
       "      <td>NaN</td>\n",
       "      <td>True</td>\n",
       "    </tr>\n",
       "  </tbody>\n",
       "</table>\n",
       "</div>"
      ],
      "text/plain": [
       "  MONTH_REPORTED STATE    MAKE       MODEL COLOR    YEAR  \\\n",
       "0        2017-09    IL  Nissan  Pathfinder   Red  2016.0   \n",
       "1        2016-10    IL  Nissan      Altima   NaN  2016.0   \n",
       "2        2018-01    IL  Nissan      Altima  Gray  2014.0   \n",
       "\n",
       "  LAST_INSPECTION_MONTH  NUMBER_OF_TRIPS  MULTIPLE_TNPS  \n",
       "0               2017-06              NaN           True  \n",
       "1                   NaN              NaN           True  \n",
       "2               2017-10              NaN           True  "
      ]
     },
     "execution_count": 3,
     "metadata": {},
     "output_type": "execute_result"
    }
   ],
   "source": [
    "df.head(3)"
   ]
  },
  {
   "cell_type": "markdown",
   "metadata": {},
   "source": [
    "---\n",
    "\n",
    "## Data Overview"
   ]
  },
  {
   "cell_type": "markdown",
   "metadata": {},
   "source": [
    "### Number of rows and columns"
   ]
  },
  {
   "cell_type": "code",
   "execution_count": 4,
   "metadata": {},
   "outputs": [
    {
     "name": "stdout",
     "output_type": "stream",
     "text": [
      "There are 7156604 rows and 9 columns.\n"
     ]
    }
   ],
   "source": [
    "print(f'There are {df.shape[0]} rows and {df.shape[1]} columns.')"
   ]
  },
  {
   "cell_type": "markdown",
   "metadata": {},
   "source": [
    "### Data types"
   ]
  },
  {
   "cell_type": "code",
   "execution_count": 5,
   "metadata": {},
   "outputs": [
    {
     "data": {
      "text/plain": [
       "MONTH_REPORTED            object\n",
       "STATE                     object\n",
       "MAKE                      object\n",
       "MODEL                     object\n",
       "COLOR                     object\n",
       "YEAR                     float64\n",
       "LAST_INSPECTION_MONTH     object\n",
       "NUMBER_OF_TRIPS          float64\n",
       "MULTIPLE_TNPS               bool\n",
       "dtype: object"
      ]
     },
     "execution_count": 5,
     "metadata": {},
     "output_type": "execute_result"
    }
   ],
   "source": [
    "df.dtypes"
   ]
  },
  {
   "cell_type": "markdown",
   "metadata": {},
   "source": [
    "`YEAR` and `NUMBER_OF_TRIPS` are `float64`s since those columns contain missing values."
   ]
  },
  {
   "cell_type": "markdown",
   "metadata": {},
   "source": [
    "### Missing values"
   ]
  },
  {
   "cell_type": "code",
   "execution_count": 6,
   "metadata": {},
   "outputs": [
    {
     "data": {
      "text/plain": [
       "MONTH_REPORTED                 0\n",
       "STATE                      14210\n",
       "MAKE                        5035\n",
       "MODEL                       5053\n",
       "COLOR                     870992\n",
       "YEAR                        5031\n",
       "LAST_INSPECTION_MONTH    2939655\n",
       "NUMBER_OF_TRIPS            12129\n",
       "MULTIPLE_TNPS                  0\n",
       "dtype: int64"
      ]
     },
     "execution_count": 6,
     "metadata": {},
     "output_type": "execute_result"
    }
   ],
   "source": [
    "df.isna().sum()"
   ]
  },
  {
   "cell_type": "markdown",
   "metadata": {},
   "source": [
    "---\n",
    "\n",
    "## Removing Unwanted Rows and Columns"
   ]
  },
  {
   "cell_type": "markdown",
   "metadata": {},
   "source": [
    "### Filtering rows with missing values in columns of interest"
   ]
  },
  {
   "cell_type": "code",
   "execution_count": 7,
   "metadata": {},
   "outputs": [],
   "source": [
    "df.dropna(subset=['MAKE', 'MODEL', 'COLOR', 'YEAR'], inplace=True)"
   ]
  },
  {
   "cell_type": "markdown",
   "metadata": {},
   "source": [
    "### Only select vehicles that had 100 or more trips"
   ]
  },
  {
   "cell_type": "markdown",
   "metadata": {},
   "source": [
    "The filtered dataset will be used to analyze popular cars used by Uber and Lyft drivers. 🚙 We only select rows with 100 or more trips on the corresponding given month."
   ]
  },
  {
   "cell_type": "code",
   "execution_count": 8,
   "metadata": {},
   "outputs": [],
   "source": [
    "df = df[df['NUMBER_OF_TRIPS'] >= 100].copy()"
   ]
  },
  {
   "cell_type": "markdown",
   "metadata": {},
   "source": [
    "### Only filter valid States"
   ]
  },
  {
   "cell_type": "markdown",
   "metadata": {},
   "source": [
    "Count the number of vehicles by State"
   ]
  },
  {
   "cell_type": "code",
   "execution_count": 9,
   "metadata": {},
   "outputs": [
    {
     "data": {
      "text/plain": [
       "IL            1324779\n",
       "IN              19637\n",
       "FL               5542\n",
       "WI               3081\n",
       "TX               2794\n",
       "CA               2616\n",
       "MI               2057\n",
       "GA               1660\n",
       "OH               1632\n",
       "MO               1251\n",
       "IA               1131\n",
       "PA               1082\n",
       "NY                921\n",
       "VA                764\n",
       "CO                729\n",
       "TN                724\n",
       "AZ                683\n",
       "LA                676\n",
       "KY                636\n",
       "NJ                604\n",
       "ID                595\n",
       "MN                500\n",
       "MD                499\n",
       "WA                485\n",
       "MA                468\n",
       "OK                462\n",
       "SC                461\n",
       "NC                425\n",
       "MS                353\n",
       "AL                339\n",
       "NV                252\n",
       "AR                247\n",
       "KS                231\n",
       "CT                192\n",
       "OR                168\n",
       "NE                163\n",
       "NM                127\n",
       "SD                114\n",
       "UT                113\n",
       "ND                 99\n",
       "WV                 96\n",
       "AK                 86\n",
       "DE                 82\n",
       "RI                 76\n",
       "VT                 28\n",
       "MT                 28\n",
       "DC                 27\n",
       "ME                 19\n",
       "NH                 17\n",
       "HI                 15\n",
       "0                  12\n",
       "WY                 10\n",
       "CALIFORNIA          6\n",
       "LEXUS               4\n",
       "S                   3\n",
       "VIRGINIA            2\n",
       "AS                  1\n",
       "Name: STATE, dtype: int64"
      ]
     },
     "execution_count": 9,
     "metadata": {},
     "output_type": "execute_result"
    }
   ],
   "source": [
    "df['STATE'].value_counts()"
   ]
  },
  {
   "cell_type": "markdown",
   "metadata": {},
   "source": [
    "While most values look valid, there are some rows where the 2-letter codes are invalid. Replace full state names (e.g., \"CALIFORNIA\", \"VIRGINIA) with the 2 letter codes."
   ]
  },
  {
   "cell_type": "code",
   "execution_count": 10,
   "metadata": {},
   "outputs": [],
   "source": [
    "df.loc[df['STATE'] == 'CALIFORNIA', 'STATE'] = 'CA'\n",
    "df.loc[df['STATE'] == 'VIRGINIA', 'STATE'] = 'VA'"
   ]
  },
  {
   "cell_type": "markdown",
   "metadata": {},
   "source": [
    "Drop the other ones."
   ]
  },
  {
   "cell_type": "code",
   "execution_count": 11,
   "metadata": {},
   "outputs": [],
   "source": [
    "# Filter valid states only\n",
    "states = [\"AL\", \"AK\", \"AZ\", \"AR\", \"CA\", \"CO\", \"CT\", \"DC\", \"DE\", \"FL\", \"GA\", \n",
    "          \"HI\", \"ID\", \"IL\", \"IN\", \"IA\", \"KS\", \"KY\", \"LA\", \"ME\", \"MD\", \n",
    "          \"MA\", \"MI\", \"MN\", \"MS\", \"MO\", \"MT\", \"NE\", \"NV\", \"NH\", \"NJ\", \n",
    "          \"NM\", \"NY\", \"NC\", \"ND\", \"OH\", \"OK\", \"OR\", \"PA\", \"RI\", \"SC\", \n",
    "          \"SD\", \"TN\", \"TX\", \"UT\", \"VT\", \"VA\", \"WA\", \"WV\", \"WI\", \"WY\"]\n",
    "df = df[df['STATE'].isin(states)].copy()"
   ]
  },
  {
   "cell_type": "markdown",
   "metadata": {},
   "source": [
    "### Drop `LAST_INSPECTION_MONTH`"
   ]
  },
  {
   "cell_type": "code",
   "execution_count": 12,
   "metadata": {},
   "outputs": [],
   "source": [
    "# Drop LAST_INSPECTION_MONTH column\n",
    "df.drop(columns=['LAST_INSPECTION_MONTH'], inplace=True)"
   ]
  },
  {
   "cell_type": "markdown",
   "metadata": {},
   "source": [
    "## Data Types"
   ]
  },
  {
   "cell_type": "markdown",
   "metadata": {},
   "source": [
    "### Convert `YEAR` and `NUMBER_OF_TRIPS` to integers"
   ]
  },
  {
   "cell_type": "code",
   "execution_count": 13,
   "metadata": {},
   "outputs": [],
   "source": [
    "df['YEAR'] = df['YEAR'].astype(np.int64)\n",
    "df['NUMBER_OF_TRIPS'] = df['NUMBER_OF_TRIPS'].astype(np.int64)"
   ]
  },
  {
   "cell_type": "code",
   "execution_count": 14,
   "metadata": {},
   "outputs": [
    {
     "data": {
      "text/plain": [
       "MONTH_REPORTED     object\n",
       "STATE              object\n",
       "MAKE               object\n",
       "MODEL              object\n",
       "COLOR              object\n",
       "YEAR                int64\n",
       "NUMBER_OF_TRIPS     int64\n",
       "MULTIPLE_TNPS        bool\n",
       "dtype: object"
      ]
     },
     "execution_count": 14,
     "metadata": {},
     "output_type": "execute_result"
    }
   ],
   "source": [
    "df.dtypes"
   ]
  },
  {
   "cell_type": "markdown",
   "metadata": {},
   "source": [
    "## Make & Model"
   ]
  },
  {
   "cell_type": "markdown",
   "metadata": {},
   "source": [
    "### Rename `YEAR` to `MODEL_YEAR`"
   ]
  },
  {
   "cell_type": "code",
   "execution_count": 15,
   "metadata": {},
   "outputs": [],
   "source": [
    "df.rename(columns={'YEAR': 'MODEL_YEAR'}, inplace=True)"
   ]
  },
  {
   "cell_type": "markdown",
   "metadata": {},
   "source": [
    "## Number of registrations by make & model"
   ]
  },
  {
   "cell_type": "code",
   "execution_count": 16,
   "metadata": {},
   "outputs": [
    {
     "data": {
      "text/html": [
       "<div>\n",
       "<style scoped>\n",
       "    .dataframe tbody tr th:only-of-type {\n",
       "        vertical-align: middle;\n",
       "    }\n",
       "\n",
       "    .dataframe tbody tr th {\n",
       "        vertical-align: top;\n",
       "    }\n",
       "\n",
       "    .dataframe thead th {\n",
       "        text-align: right;\n",
       "    }\n",
       "</style>\n",
       "<table border=\"1\" class=\"dataframe\">\n",
       "  <thead>\n",
       "    <tr style=\"text-align: right;\">\n",
       "      <th></th>\n",
       "      <th>MAKE</th>\n",
       "      <th>MODEL</th>\n",
       "      <th>COUNT</th>\n",
       "    </tr>\n",
       "  </thead>\n",
       "  <tbody>\n",
       "    <tr>\n",
       "      <th>0</th>\n",
       "      <td>Acura</td>\n",
       "      <td>3.2 Tl</td>\n",
       "      <td>1</td>\n",
       "    </tr>\n",
       "    <tr>\n",
       "      <th>354</th>\n",
       "      <td>Gmc</td>\n",
       "      <td>Mv1</td>\n",
       "      <td>1</td>\n",
       "    </tr>\n",
       "    <tr>\n",
       "      <th>935</th>\n",
       "      <td>Nissan</td>\n",
       "      <td>Wingroad</td>\n",
       "      <td>1</td>\n",
       "    </tr>\n",
       "    <tr>\n",
       "      <th>339</th>\n",
       "      <td>Ford</td>\n",
       "      <td>Transit Van</td>\n",
       "      <td>1</td>\n",
       "    </tr>\n",
       "    <tr>\n",
       "      <th>336</th>\n",
       "      <td>Ford</td>\n",
       "      <td>Transit</td>\n",
       "      <td>1</td>\n",
       "    </tr>\n",
       "  </tbody>\n",
       "</table>\n",
       "</div>"
      ],
      "text/plain": [
       "       MAKE        MODEL  COUNT\n",
       "0     Acura       3.2 Tl      1\n",
       "354     Gmc          Mv1      1\n",
       "935  Nissan     Wingroad      1\n",
       "339    Ford  Transit Van      1\n",
       "336    Ford      Transit      1"
      ]
     },
     "execution_count": 16,
     "metadata": {},
     "output_type": "execute_result"
    }
   ],
   "source": [
    "df_count_by_vehicle = df.groupby(['MAKE', 'MODEL'], as_index=False).agg({\n",
    "    'MODEL_YEAR': 'count'\n",
    "}).rename(columns={\n",
    "    'MODEL_YEAR': 'COUNT'\n",
    "}).sort_values('COUNT')\n",
    "\n",
    "df_count_by_vehicle.head(5)"
   ]
  },
  {
   "cell_type": "markdown",
   "metadata": {},
   "source": [
    "### Remove rows with make & model registrations <= 15"
   ]
  },
  {
   "cell_type": "code",
   "execution_count": 17,
   "metadata": {},
   "outputs": [
    {
     "data": {
      "text/html": [
       "<div>\n",
       "<style scoped>\n",
       "    .dataframe tbody tr th:only-of-type {\n",
       "        vertical-align: middle;\n",
       "    }\n",
       "\n",
       "    .dataframe tbody tr th {\n",
       "        vertical-align: top;\n",
       "    }\n",
       "\n",
       "    .dataframe thead th {\n",
       "        text-align: right;\n",
       "    }\n",
       "</style>\n",
       "<table border=\"1\" class=\"dataframe\">\n",
       "  <thead>\n",
       "    <tr style=\"text-align: right;\">\n",
       "      <th></th>\n",
       "      <th>MAKE</th>\n",
       "      <th>MODEL</th>\n",
       "      <th>COUNT</th>\n",
       "    </tr>\n",
       "  </thead>\n",
       "  <tbody>\n",
       "    <tr>\n",
       "      <th>250</th>\n",
       "      <td>Dodge</td>\n",
       "      <td>Ram</td>\n",
       "      <td>15</td>\n",
       "    </tr>\n",
       "    <tr>\n",
       "      <th>385</th>\n",
       "      <td>Honda</td>\n",
       "      <td>Cr</td>\n",
       "      <td>15</td>\n",
       "    </tr>\n",
       "    <tr>\n",
       "      <th>123</th>\n",
       "      <td>Cadillac</td>\n",
       "      <td>Xt4</td>\n",
       "      <td>15</td>\n",
       "    </tr>\n",
       "    <tr>\n",
       "      <th>1172</th>\n",
       "      <td>Volkswagen</td>\n",
       "      <td>Jetta Hybrid</td>\n",
       "      <td>15</td>\n",
       "    </tr>\n",
       "    <tr>\n",
       "      <th>554</th>\n",
       "      <td>Jeep</td>\n",
       "      <td>Wrangler Jk</td>\n",
       "      <td>15</td>\n",
       "    </tr>\n",
       "    <tr>\n",
       "      <th>462</th>\n",
       "      <td>Hyundai</td>\n",
       "      <td>Xg300</td>\n",
       "      <td>15</td>\n",
       "    </tr>\n",
       "    <tr>\n",
       "      <th>845</th>\n",
       "      <td>Mercury</td>\n",
       "      <td>Milan Hybrid</td>\n",
       "      <td>15</td>\n",
       "    </tr>\n",
       "    <tr>\n",
       "      <th>625</th>\n",
       "      <td>Lexus</td>\n",
       "      <td>Es Series</td>\n",
       "      <td>15</td>\n",
       "    </tr>\n",
       "    <tr>\n",
       "      <th>661</th>\n",
       "      <td>Lexus</td>\n",
       "      <td>Nx 200t</td>\n",
       "      <td>16</td>\n",
       "    </tr>\n",
       "    <tr>\n",
       "      <th>131</th>\n",
       "      <td>Chevrolet</td>\n",
       "      <td>Astra</td>\n",
       "      <td>16</td>\n",
       "    </tr>\n",
       "  </tbody>\n",
       "</table>\n",
       "</div>"
      ],
      "text/plain": [
       "            MAKE         MODEL  COUNT\n",
       "250        Dodge           Ram     15\n",
       "385        Honda            Cr     15\n",
       "123     Cadillac           Xt4     15\n",
       "1172  Volkswagen  Jetta Hybrid     15\n",
       "554         Jeep   Wrangler Jk     15\n",
       "462      Hyundai         Xg300     15\n",
       "845      Mercury  Milan Hybrid     15\n",
       "625        Lexus     Es Series     15\n",
       "661        Lexus       Nx 200t     16\n",
       "131    Chevrolet         Astra     16"
      ]
     },
     "execution_count": 17,
     "metadata": {},
     "output_type": "execute_result"
    }
   ],
   "source": [
    "df_count_by_vehicle[df_count_by_vehicle['COUNT'] >= 15].head(10)"
   ]
  },
  {
   "cell_type": "markdown",
   "metadata": {},
   "source": [
    "Find make & model combinations that were registered at least 15 times. The threshold number 15 is purely subjective."
   ]
  },
  {
   "cell_type": "code",
   "execution_count": 18,
   "metadata": {},
   "outputs": [
    {
     "data": {
      "text/plain": [
       "(659, 3)"
      ]
     },
     "execution_count": 18,
     "metadata": {},
     "output_type": "execute_result"
    }
   ],
   "source": [
    "df_threshold = df_count_by_vehicle[df_count_by_vehicle['COUNT'] >= 15]\n",
    "df_threshold.shape"
   ]
  },
  {
   "cell_type": "markdown",
   "metadata": {},
   "source": [
    "Use an inner merge to remove rows where the make & model combinations were too rare."
   ]
  },
  {
   "cell_type": "code",
   "execution_count": 19,
   "metadata": {},
   "outputs": [
    {
     "data": {
      "text/html": [
       "<div>\n",
       "<style scoped>\n",
       "    .dataframe tbody tr th:only-of-type {\n",
       "        vertical-align: middle;\n",
       "    }\n",
       "\n",
       "    .dataframe tbody tr th {\n",
       "        vertical-align: top;\n",
       "    }\n",
       "\n",
       "    .dataframe thead th {\n",
       "        text-align: right;\n",
       "    }\n",
       "</style>\n",
       "<table border=\"1\" class=\"dataframe\">\n",
       "  <thead>\n",
       "    <tr style=\"text-align: right;\">\n",
       "      <th></th>\n",
       "      <th>MONTH_REPORTED</th>\n",
       "      <th>STATE</th>\n",
       "      <th>MAKE</th>\n",
       "      <th>MODEL</th>\n",
       "      <th>COLOR</th>\n",
       "      <th>MODEL_YEAR</th>\n",
       "      <th>NUMBER_OF_TRIPS</th>\n",
       "      <th>MULTIPLE_TNPS</th>\n",
       "    </tr>\n",
       "  </thead>\n",
       "  <tbody>\n",
       "    <tr>\n",
       "      <th>0</th>\n",
       "      <td>2018-01</td>\n",
       "      <td>IL</td>\n",
       "      <td>Toyota</td>\n",
       "      <td>Corolla</td>\n",
       "      <td>Gold</td>\n",
       "      <td>2013</td>\n",
       "      <td>151</td>\n",
       "      <td>False</td>\n",
       "    </tr>\n",
       "    <tr>\n",
       "      <th>1</th>\n",
       "      <td>2017-07</td>\n",
       "      <td>IL</td>\n",
       "      <td>Toyota</td>\n",
       "      <td>Corolla</td>\n",
       "      <td>Dark Red</td>\n",
       "      <td>2009</td>\n",
       "      <td>400</td>\n",
       "      <td>False</td>\n",
       "    </tr>\n",
       "    <tr>\n",
       "      <th>2</th>\n",
       "      <td>2017-08</td>\n",
       "      <td>IL</td>\n",
       "      <td>Toyota</td>\n",
       "      <td>Corolla</td>\n",
       "      <td>Black</td>\n",
       "      <td>2016</td>\n",
       "      <td>362</td>\n",
       "      <td>True</td>\n",
       "    </tr>\n",
       "    <tr>\n",
       "      <th>3</th>\n",
       "      <td>2017-05</td>\n",
       "      <td>IL</td>\n",
       "      <td>Toyota</td>\n",
       "      <td>Corolla</td>\n",
       "      <td>Silver</td>\n",
       "      <td>2016</td>\n",
       "      <td>159</td>\n",
       "      <td>True</td>\n",
       "    </tr>\n",
       "    <tr>\n",
       "      <th>4</th>\n",
       "      <td>2015-08</td>\n",
       "      <td>IL</td>\n",
       "      <td>Toyota</td>\n",
       "      <td>Corolla</td>\n",
       "      <td>Black</td>\n",
       "      <td>2015</td>\n",
       "      <td>113</td>\n",
       "      <td>True</td>\n",
       "    </tr>\n",
       "  </tbody>\n",
       "</table>\n",
       "</div>"
      ],
      "text/plain": [
       "  MONTH_REPORTED STATE    MAKE    MODEL     COLOR  MODEL_YEAR  \\\n",
       "0        2018-01    IL  Toyota  Corolla      Gold        2013   \n",
       "1        2017-07    IL  Toyota  Corolla  Dark Red        2009   \n",
       "2        2017-08    IL  Toyota  Corolla     Black        2016   \n",
       "3        2017-05    IL  Toyota  Corolla    Silver        2016   \n",
       "4        2015-08    IL  Toyota  Corolla     Black        2015   \n",
       "\n",
       "   NUMBER_OF_TRIPS  MULTIPLE_TNPS  \n",
       "0              151          False  \n",
       "1              400          False  \n",
       "2              362           True  \n",
       "3              159           True  \n",
       "4              113           True  "
      ]
     },
     "execution_count": 19,
     "metadata": {},
     "output_type": "execute_result"
    }
   ],
   "source": [
    "df = df.merge(df_threshold[['MAKE', 'MODEL']], how='inner', on=['MAKE', 'MODEL'])\n",
    "df.head(5)"
   ]
  },
  {
   "cell_type": "markdown",
   "metadata": {},
   "source": [
    "## Extract Year/Month Reported"
   ]
  },
  {
   "cell_type": "code",
   "execution_count": 20,
   "metadata": {},
   "outputs": [],
   "source": [
    "df['REPORTED_YEAR'] = df['MONTH_REPORTED'].str[:4].astype(np.int64)\n",
    "df['REPORTED_MONTH'] = df['MONTH_REPORTED'].str[-2:].astype(np.int64)\n",
    "df.drop(columns=['MONTH_REPORTED'], inplace=True)"
   ]
  },
  {
   "cell_type": "code",
   "execution_count": 21,
   "metadata": {},
   "outputs": [
    {
     "data": {
      "text/html": [
       "<div>\n",
       "<style scoped>\n",
       "    .dataframe tbody tr th:only-of-type {\n",
       "        vertical-align: middle;\n",
       "    }\n",
       "\n",
       "    .dataframe tbody tr th {\n",
       "        vertical-align: top;\n",
       "    }\n",
       "\n",
       "    .dataframe thead th {\n",
       "        text-align: right;\n",
       "    }\n",
       "</style>\n",
       "<table border=\"1\" class=\"dataframe\">\n",
       "  <thead>\n",
       "    <tr style=\"text-align: right;\">\n",
       "      <th></th>\n",
       "      <th>STATE</th>\n",
       "      <th>MAKE</th>\n",
       "      <th>MODEL</th>\n",
       "      <th>COLOR</th>\n",
       "      <th>MODEL_YEAR</th>\n",
       "      <th>NUMBER_OF_TRIPS</th>\n",
       "      <th>MULTIPLE_TNPS</th>\n",
       "      <th>REPORTED_YEAR</th>\n",
       "      <th>REPORTED_MONTH</th>\n",
       "    </tr>\n",
       "  </thead>\n",
       "  <tbody>\n",
       "    <tr>\n",
       "      <th>0</th>\n",
       "      <td>IL</td>\n",
       "      <td>Toyota</td>\n",
       "      <td>Corolla</td>\n",
       "      <td>Gold</td>\n",
       "      <td>2013</td>\n",
       "      <td>151</td>\n",
       "      <td>False</td>\n",
       "      <td>2018</td>\n",
       "      <td>1</td>\n",
       "    </tr>\n",
       "    <tr>\n",
       "      <th>1</th>\n",
       "      <td>IL</td>\n",
       "      <td>Toyota</td>\n",
       "      <td>Corolla</td>\n",
       "      <td>Dark Red</td>\n",
       "      <td>2009</td>\n",
       "      <td>400</td>\n",
       "      <td>False</td>\n",
       "      <td>2017</td>\n",
       "      <td>7</td>\n",
       "    </tr>\n",
       "    <tr>\n",
       "      <th>2</th>\n",
       "      <td>IL</td>\n",
       "      <td>Toyota</td>\n",
       "      <td>Corolla</td>\n",
       "      <td>Black</td>\n",
       "      <td>2016</td>\n",
       "      <td>362</td>\n",
       "      <td>True</td>\n",
       "      <td>2017</td>\n",
       "      <td>8</td>\n",
       "    </tr>\n",
       "    <tr>\n",
       "      <th>3</th>\n",
       "      <td>IL</td>\n",
       "      <td>Toyota</td>\n",
       "      <td>Corolla</td>\n",
       "      <td>Silver</td>\n",
       "      <td>2016</td>\n",
       "      <td>159</td>\n",
       "      <td>True</td>\n",
       "      <td>2017</td>\n",
       "      <td>5</td>\n",
       "    </tr>\n",
       "    <tr>\n",
       "      <th>4</th>\n",
       "      <td>IL</td>\n",
       "      <td>Toyota</td>\n",
       "      <td>Corolla</td>\n",
       "      <td>Black</td>\n",
       "      <td>2015</td>\n",
       "      <td>113</td>\n",
       "      <td>True</td>\n",
       "      <td>2015</td>\n",
       "      <td>8</td>\n",
       "    </tr>\n",
       "    <tr>\n",
       "      <th>...</th>\n",
       "      <td>...</td>\n",
       "      <td>...</td>\n",
       "      <td>...</td>\n",
       "      <td>...</td>\n",
       "      <td>...</td>\n",
       "      <td>...</td>\n",
       "      <td>...</td>\n",
       "      <td>...</td>\n",
       "      <td>...</td>\n",
       "    </tr>\n",
       "    <tr>\n",
       "      <th>1377578</th>\n",
       "      <td>IL</td>\n",
       "      <td>Kia</td>\n",
       "      <td>Rio 5 Door</td>\n",
       "      <td>Black</td>\n",
       "      <td>2018</td>\n",
       "      <td>309</td>\n",
       "      <td>False</td>\n",
       "      <td>2020</td>\n",
       "      <td>8</td>\n",
       "    </tr>\n",
       "    <tr>\n",
       "      <th>1377579</th>\n",
       "      <td>IL</td>\n",
       "      <td>Kia</td>\n",
       "      <td>Rio 5 Door</td>\n",
       "      <td>Silver</td>\n",
       "      <td>2020</td>\n",
       "      <td>197</td>\n",
       "      <td>False</td>\n",
       "      <td>2020</td>\n",
       "      <td>8</td>\n",
       "    </tr>\n",
       "    <tr>\n",
       "      <th>1377580</th>\n",
       "      <td>IL</td>\n",
       "      <td>Kia</td>\n",
       "      <td>Rio 5 Door</td>\n",
       "      <td>Black</td>\n",
       "      <td>2020</td>\n",
       "      <td>180</td>\n",
       "      <td>False</td>\n",
       "      <td>2020</td>\n",
       "      <td>8</td>\n",
       "    </tr>\n",
       "    <tr>\n",
       "      <th>1377581</th>\n",
       "      <td>IL</td>\n",
       "      <td>Kia</td>\n",
       "      <td>Rio 5 Door</td>\n",
       "      <td>Red</td>\n",
       "      <td>2012</td>\n",
       "      <td>194</td>\n",
       "      <td>False</td>\n",
       "      <td>2020</td>\n",
       "      <td>8</td>\n",
       "    </tr>\n",
       "    <tr>\n",
       "      <th>1377582</th>\n",
       "      <td>IL</td>\n",
       "      <td>Kia</td>\n",
       "      <td>Rio 5 Door</td>\n",
       "      <td>Silver</td>\n",
       "      <td>2020</td>\n",
       "      <td>189</td>\n",
       "      <td>False</td>\n",
       "      <td>2020</td>\n",
       "      <td>9</td>\n",
       "    </tr>\n",
       "  </tbody>\n",
       "</table>\n",
       "<p>1377583 rows × 9 columns</p>\n",
       "</div>"
      ],
      "text/plain": [
       "        STATE    MAKE       MODEL     COLOR  MODEL_YEAR  NUMBER_OF_TRIPS  \\\n",
       "0          IL  Toyota     Corolla      Gold        2013              151   \n",
       "1          IL  Toyota     Corolla  Dark Red        2009              400   \n",
       "2          IL  Toyota     Corolla     Black        2016              362   \n",
       "3          IL  Toyota     Corolla    Silver        2016              159   \n",
       "4          IL  Toyota     Corolla     Black        2015              113   \n",
       "...       ...     ...         ...       ...         ...              ...   \n",
       "1377578    IL     Kia  Rio 5 Door     Black        2018              309   \n",
       "1377579    IL     Kia  Rio 5 Door    Silver        2020              197   \n",
       "1377580    IL     Kia  Rio 5 Door     Black        2020              180   \n",
       "1377581    IL     Kia  Rio 5 Door       Red        2012              194   \n",
       "1377582    IL     Kia  Rio 5 Door    Silver        2020              189   \n",
       "\n",
       "         MULTIPLE_TNPS  REPORTED_YEAR  REPORTED_MONTH  \n",
       "0                False           2018               1  \n",
       "1                False           2017               7  \n",
       "2                 True           2017               8  \n",
       "3                 True           2017               5  \n",
       "4                 True           2015               8  \n",
       "...                ...            ...             ...  \n",
       "1377578          False           2020               8  \n",
       "1377579          False           2020               8  \n",
       "1377580          False           2020               8  \n",
       "1377581          False           2020               8  \n",
       "1377582          False           2020               9  \n",
       "\n",
       "[1377583 rows x 9 columns]"
      ]
     },
     "execution_count": 21,
     "metadata": {},
     "output_type": "execute_result"
    }
   ],
   "source": [
    "df"
   ]
  },
  {
   "cell_type": "markdown",
   "metadata": {},
   "source": [
    "## Rearrange columns"
   ]
  },
  {
   "cell_type": "code",
   "execution_count": 22,
   "metadata": {},
   "outputs": [
    {
     "data": {
      "text/html": [
       "<div>\n",
       "<style scoped>\n",
       "    .dataframe tbody tr th:only-of-type {\n",
       "        vertical-align: middle;\n",
       "    }\n",
       "\n",
       "    .dataframe tbody tr th {\n",
       "        vertical-align: top;\n",
       "    }\n",
       "\n",
       "    .dataframe thead th {\n",
       "        text-align: right;\n",
       "    }\n",
       "</style>\n",
       "<table border=\"1\" class=\"dataframe\">\n",
       "  <thead>\n",
       "    <tr style=\"text-align: right;\">\n",
       "      <th></th>\n",
       "      <th>REPORTED_YEAR</th>\n",
       "      <th>REPORTED_MONTH</th>\n",
       "      <th>STATE</th>\n",
       "      <th>MAKE</th>\n",
       "      <th>MODEL</th>\n",
       "      <th>COLOR</th>\n",
       "      <th>MODEL_YEAR</th>\n",
       "      <th>NUMBER_OF_TRIPS</th>\n",
       "      <th>MULTIPLE_TNPS</th>\n",
       "    </tr>\n",
       "  </thead>\n",
       "  <tbody>\n",
       "    <tr>\n",
       "      <th>0</th>\n",
       "      <td>2018</td>\n",
       "      <td>1</td>\n",
       "      <td>IL</td>\n",
       "      <td>Toyota</td>\n",
       "      <td>Corolla</td>\n",
       "      <td>Gold</td>\n",
       "      <td>2013</td>\n",
       "      <td>151</td>\n",
       "      <td>False</td>\n",
       "    </tr>\n",
       "    <tr>\n",
       "      <th>1</th>\n",
       "      <td>2017</td>\n",
       "      <td>7</td>\n",
       "      <td>IL</td>\n",
       "      <td>Toyota</td>\n",
       "      <td>Corolla</td>\n",
       "      <td>Dark Red</td>\n",
       "      <td>2009</td>\n",
       "      <td>400</td>\n",
       "      <td>False</td>\n",
       "    </tr>\n",
       "  </tbody>\n",
       "</table>\n",
       "</div>"
      ],
      "text/plain": [
       "   REPORTED_YEAR  REPORTED_MONTH STATE    MAKE    MODEL     COLOR  MODEL_YEAR  \\\n",
       "0           2018               1    IL  Toyota  Corolla      Gold        2013   \n",
       "1           2017               7    IL  Toyota  Corolla  Dark Red        2009   \n",
       "\n",
       "   NUMBER_OF_TRIPS  MULTIPLE_TNPS  \n",
       "0              151          False  \n",
       "1              400          False  "
      ]
     },
     "execution_count": 22,
     "metadata": {},
     "output_type": "execute_result"
    }
   ],
   "source": [
    "df = df[['REPORTED_YEAR', 'REPORTED_MONTH', 'STATE', 'MAKE', 'MODEL', 'COLOR', 'MODEL_YEAR', 'NUMBER_OF_TRIPS', 'MULTIPLE_TNPS']]\n",
    "df.head(2)"
   ]
  },
  {
   "cell_type": "markdown",
   "metadata": {},
   "source": [
    "## Shuffle Rows and Sort By Reported Month"
   ]
  },
  {
   "cell_type": "markdown",
   "metadata": {},
   "source": [
    "As a final step, sort the dataset by reported year and month."
   ]
  },
  {
   "cell_type": "code",
   "execution_count": 23,
   "metadata": {},
   "outputs": [],
   "source": [
    "df = df.sample(frac=1).sort_values(['REPORTED_YEAR', 'REPORTED_MONTH']).reset_index(drop=True)"
   ]
  },
  {
   "cell_type": "code",
   "execution_count": 24,
   "metadata": {},
   "outputs": [
    {
     "data": {
      "text/html": [
       "<div>\n",
       "<style scoped>\n",
       "    .dataframe tbody tr th:only-of-type {\n",
       "        vertical-align: middle;\n",
       "    }\n",
       "\n",
       "    .dataframe tbody tr th {\n",
       "        vertical-align: top;\n",
       "    }\n",
       "\n",
       "    .dataframe thead th {\n",
       "        text-align: right;\n",
       "    }\n",
       "</style>\n",
       "<table border=\"1\" class=\"dataframe\">\n",
       "  <thead>\n",
       "    <tr style=\"text-align: right;\">\n",
       "      <th></th>\n",
       "      <th>REPORTED_YEAR</th>\n",
       "      <th>REPORTED_MONTH</th>\n",
       "      <th>STATE</th>\n",
       "      <th>MAKE</th>\n",
       "      <th>MODEL</th>\n",
       "      <th>COLOR</th>\n",
       "      <th>MODEL_YEAR</th>\n",
       "      <th>NUMBER_OF_TRIPS</th>\n",
       "      <th>MULTIPLE_TNPS</th>\n",
       "    </tr>\n",
       "  </thead>\n",
       "  <tbody>\n",
       "    <tr>\n",
       "      <th>0</th>\n",
       "      <td>2015</td>\n",
       "      <td>3</td>\n",
       "      <td>IL</td>\n",
       "      <td>Toyota</td>\n",
       "      <td>Highlander</td>\n",
       "      <td>Black</td>\n",
       "      <td>2010</td>\n",
       "      <td>263</td>\n",
       "      <td>False</td>\n",
       "    </tr>\n",
       "    <tr>\n",
       "      <th>1</th>\n",
       "      <td>2015</td>\n",
       "      <td>3</td>\n",
       "      <td>IL</td>\n",
       "      <td>Toyota</td>\n",
       "      <td>Camry</td>\n",
       "      <td>Black</td>\n",
       "      <td>2008</td>\n",
       "      <td>204</td>\n",
       "      <td>False</td>\n",
       "    </tr>\n",
       "    <tr>\n",
       "      <th>2</th>\n",
       "      <td>2015</td>\n",
       "      <td>3</td>\n",
       "      <td>IL</td>\n",
       "      <td>Toyota</td>\n",
       "      <td>Camry</td>\n",
       "      <td>Black</td>\n",
       "      <td>2009</td>\n",
       "      <td>122</td>\n",
       "      <td>False</td>\n",
       "    </tr>\n",
       "    <tr>\n",
       "      <th>3</th>\n",
       "      <td>2015</td>\n",
       "      <td>3</td>\n",
       "      <td>IL</td>\n",
       "      <td>Mazda</td>\n",
       "      <td>Mazda3</td>\n",
       "      <td>Silver</td>\n",
       "      <td>2012</td>\n",
       "      <td>150</td>\n",
       "      <td>False</td>\n",
       "    </tr>\n",
       "    <tr>\n",
       "      <th>4</th>\n",
       "      <td>2015</td>\n",
       "      <td>3</td>\n",
       "      <td>IL</td>\n",
       "      <td>Chrysler</td>\n",
       "      <td>Pt Cruiser</td>\n",
       "      <td>White/Pearl</td>\n",
       "      <td>2008</td>\n",
       "      <td>208</td>\n",
       "      <td>False</td>\n",
       "    </tr>\n",
       "    <tr>\n",
       "      <th>...</th>\n",
       "      <td>...</td>\n",
       "      <td>...</td>\n",
       "      <td>...</td>\n",
       "      <td>...</td>\n",
       "      <td>...</td>\n",
       "      <td>...</td>\n",
       "      <td>...</td>\n",
       "      <td>...</td>\n",
       "      <td>...</td>\n",
       "    </tr>\n",
       "    <tr>\n",
       "      <th>1377578</th>\n",
       "      <td>2020</td>\n",
       "      <td>9</td>\n",
       "      <td>IL</td>\n",
       "      <td>Buick</td>\n",
       "      <td>Regal</td>\n",
       "      <td>Black</td>\n",
       "      <td>2016</td>\n",
       "      <td>182</td>\n",
       "      <td>False</td>\n",
       "    </tr>\n",
       "    <tr>\n",
       "      <th>1377579</th>\n",
       "      <td>2020</td>\n",
       "      <td>9</td>\n",
       "      <td>IL</td>\n",
       "      <td>Dodge</td>\n",
       "      <td>Journey</td>\n",
       "      <td>Silver</td>\n",
       "      <td>2019</td>\n",
       "      <td>312</td>\n",
       "      <td>True</td>\n",
       "    </tr>\n",
       "    <tr>\n",
       "      <th>1377580</th>\n",
       "      <td>2020</td>\n",
       "      <td>9</td>\n",
       "      <td>IL</td>\n",
       "      <td>Ford</td>\n",
       "      <td>Ecosport</td>\n",
       "      <td>Blue</td>\n",
       "      <td>2018</td>\n",
       "      <td>143</td>\n",
       "      <td>False</td>\n",
       "    </tr>\n",
       "    <tr>\n",
       "      <th>1377581</th>\n",
       "      <td>2020</td>\n",
       "      <td>9</td>\n",
       "      <td>IL</td>\n",
       "      <td>Toyota</td>\n",
       "      <td>Corolla</td>\n",
       "      <td>Black</td>\n",
       "      <td>2017</td>\n",
       "      <td>112</td>\n",
       "      <td>True</td>\n",
       "    </tr>\n",
       "    <tr>\n",
       "      <th>1377582</th>\n",
       "      <td>2020</td>\n",
       "      <td>9</td>\n",
       "      <td>IL</td>\n",
       "      <td>Toyota</td>\n",
       "      <td>Rav4</td>\n",
       "      <td>Black</td>\n",
       "      <td>2018</td>\n",
       "      <td>192</td>\n",
       "      <td>False</td>\n",
       "    </tr>\n",
       "  </tbody>\n",
       "</table>\n",
       "<p>1377583 rows × 9 columns</p>\n",
       "</div>"
      ],
      "text/plain": [
       "         REPORTED_YEAR  REPORTED_MONTH STATE      MAKE       MODEL  \\\n",
       "0                 2015               3    IL    Toyota  Highlander   \n",
       "1                 2015               3    IL    Toyota       Camry   \n",
       "2                 2015               3    IL    Toyota       Camry   \n",
       "3                 2015               3    IL     Mazda      Mazda3   \n",
       "4                 2015               3    IL  Chrysler  Pt Cruiser   \n",
       "...                ...             ...   ...       ...         ...   \n",
       "1377578           2020               9    IL     Buick       Regal   \n",
       "1377579           2020               9    IL     Dodge     Journey   \n",
       "1377580           2020               9    IL      Ford    Ecosport   \n",
       "1377581           2020               9    IL    Toyota     Corolla   \n",
       "1377582           2020               9    IL    Toyota        Rav4   \n",
       "\n",
       "               COLOR  MODEL_YEAR  NUMBER_OF_TRIPS  MULTIPLE_TNPS  \n",
       "0              Black        2010              263          False  \n",
       "1              Black        2008              204          False  \n",
       "2              Black        2009              122          False  \n",
       "3             Silver        2012              150          False  \n",
       "4        White/Pearl        2008              208          False  \n",
       "...              ...         ...              ...            ...  \n",
       "1377578        Black        2016              182          False  \n",
       "1377579       Silver        2019              312           True  \n",
       "1377580         Blue        2018              143          False  \n",
       "1377581        Black        2017              112           True  \n",
       "1377582        Black        2018              192          False  \n",
       "\n",
       "[1377583 rows x 9 columns]"
      ]
     },
     "execution_count": 24,
     "metadata": {},
     "output_type": "execute_result"
    }
   ],
   "source": [
    "df"
   ]
  },
  {
   "cell_type": "code",
   "execution_count": 25,
   "metadata": {},
   "outputs": [],
   "source": [
    "df.to_csv('chicago-ridesharing-vehicles.csv', index=None)"
   ]
  }
 ],
 "metadata": {
  "kernelspec": {
   "display_name": "Python 3",
   "language": "python",
   "name": "python3"
  },
  "language_info": {
   "codemirror_mode": {
    "name": "ipython",
    "version": 3
   },
   "file_extension": ".py",
   "mimetype": "text/x-python",
   "name": "python",
   "nbconvert_exporter": "python",
   "pygments_lexer": "ipython3",
   "version": "3.8.3"
  }
 },
 "nbformat": 4,
 "nbformat_minor": 4
}
